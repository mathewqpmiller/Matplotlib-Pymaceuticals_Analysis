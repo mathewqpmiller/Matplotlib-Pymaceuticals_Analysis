{
 "cells": [
  {
   "cell_type": "code",
   "execution_count": null,
   "metadata": {},
   "outputs": [
    {
     "ename": "NameError",
     "evalue": "name 'bar_plot_dataframe' is not defined",
     "output_type": "error",
     "traceback": [
      "\u001b[1;31m---------------------------------------------------------------------------\u001b[0m",
      "\u001b[1;31mNameError\u001b[0m                                 Traceback (most recent call last)",
      "Input \u001b[1;32mIn [1]\u001b[0m, in \u001b[0;36m<cell line: 10>\u001b[1;34m()\u001b[0m\n\u001b[0;32m      7\u001b[0m df \u001b[38;5;241m=\u001b[39m pd\u001b[38;5;241m.\u001b[39mDataFrame(data)\u001b[38;5;241m.\u001b[39mset_index(\u001b[38;5;124m'\u001b[39m\u001b[38;5;124mGender\u001b[39m\u001b[38;5;124m'\u001b[39m)\n\u001b[0;32m      9\u001b[0m \u001b[38;5;66;03m# Define custom colors based on conditions\u001b[39;00m\n\u001b[1;32m---> 10\u001b[0m colors \u001b[38;5;241m=\u001b[39m [\u001b[38;5;124m'\u001b[39m\u001b[38;5;124m#D9D9D9\u001b[39m\u001b[38;5;124m'\u001b[39m \u001b[38;5;28;01mif\u001b[39;00m value \u001b[38;5;241m<\u001b[39m\u001b[38;5;241m=\u001b[39m \u001b[38;5;241m150\u001b[39m \u001b[38;5;28;01melse\u001b[39;00m \u001b[38;5;124m'\u001b[39m\u001b[38;5;124m#FFB400\u001b[39m\u001b[38;5;124m'\u001b[39m \u001b[38;5;28;01mif\u001b[39;00m value \u001b[38;5;241m<\u001b[39m\u001b[38;5;241m=\u001b[39m \u001b[38;5;241m200\u001b[39m \u001b[38;5;28;01melse\u001b[39;00m \u001b[38;5;124m'\u001b[39m\u001b[38;5;124m#004E64\u001b[39m\u001b[38;5;124m'\u001b[39m \u001b[38;5;28;01mfor\u001b[39;00m value \u001b[38;5;129;01min\u001b[39;00m \u001b[43mbar_plot_dataframe\u001b[49m]\n\u001b[0;32m     12\u001b[0m \u001b[38;5;66;03m# Define the colors\u001b[39;00m\n\u001b[0;32m     13\u001b[0m colors \u001b[38;5;241m=\u001b[39m [\u001b[38;5;124m\"\u001b[39m\u001b[38;5;124m#71ddb7\u001b[39m\u001b[38;5;124m\"\u001b[39m, \u001b[38;5;124m\"\u001b[39m\u001b[38;5;124m#3d4b91\u001b[39m\u001b[38;5;124m\"\u001b[39m]\n",
      "\u001b[1;31mNameError\u001b[0m: name 'bar_plot_dataframe' is not defined"
     ]
    }
   ],
   "source": [
    "import pandas as pd\n",
    "import seaborn as sns\n",
    "import matplotlib.pyplot as plt\n",
    "\n",
    "# Create a DataFrame with the data\n",
    "data = {'Gender': ['FEMALE', 'MALE'], 'Count': [958, 922]}\n",
    "df = pd.DataFrame(data).set_index('Gender')\n",
    "\n",
    "# Define custom colors based on conditions\n",
    "colors = ['#D9D9D9' if value <= 150 else '#FFB400' if value <= 200 else '#004E64' for value in bar_plot_dataframe]\n",
    "\n",
    "# Define the colors\n",
    "colors = [\"#71ddb7\", \"#3d4b91\"]\n",
    "# colors = [\"#c7522a\", \"#008585\"] clay and sea colors\n",
    "# colors = sns.color_palette(\"mako\") # This works but only uses the two darker values \n",
    "\n",
    "# Custom function to combine gender and percentage\n",
    "def label_with_pct(pct, labels):\n",
    "    gender = labels[int(pct / 100 * len(labels))]\n",
    "    return f\"{gender} {pct:.0f}%\"  # Format as 'Gender Percentage'\n",
    "\n",
    "# Create the pie chart\n",
    "fig, ax = plt.subplots(figsize=(8, 8))\n",
    "wedges, texts, autotexts = ax.pie(\n",
    "    df['Count'],\n",
    "    labels=None,  # Remove default labels\n",
    "    colors=colors,\n",
    "    autopct=lambda pct: label_with_pct(pct, df.index),\n",
    "    shadow=True,\n",
    "    startangle=180,\n",
    "    textprops={'fontsize': 36, 'color': 'white', 'weight': 'bold'}  # Set font properties\n",
    ")\n",
    "\n",
    "# Center the labels in the pie chart slices\n",
    "for autotext in autotexts:\n",
    "    autotext.set_horizontalalignment('center')  # Center horizontally\n",
    "    autotext.set_verticalalignment('center')    # Center vertically\n",
    "\n",
    "# Style the chart\n",
    "ax.set_title('Mice Tested', fontsize=24, weight='bold')\n",
    "ax.set_ylabel('')  # Remove the y-axis label\n",
    "\n",
    "# Save the plot as a temporary file\n",
    "plt.tight_layout()\n",
    "plt.savefig(\"../images/PandasPieChart.png\", bbox_inches=\"tight\")  # Save image temporarily\n",
    "\n",
    "# Center the image in Jupyter Notebook\n",
    "display(HTML(f\"<div style='text-align: center;'><img src='images/PandasPieChart.png' style='max-width:auto; height:auto;'></div>\"))\n",
    "\n",
    "# Clean up\n",
    "plt.close()"
   ]
  }
 ],
 "metadata": {
  "kernelspec": {
   "display_name": "base",
   "language": "python",
   "name": "python3"
  },
  "language_info": {
   "codemirror_mode": {
    "name": "ipython",
    "version": 3
   },
   "file_extension": ".py",
   "mimetype": "text/x-python",
   "name": "python",
   "nbconvert_exporter": "python",
   "pygments_lexer": "ipython3",
   "version": "3.9.12"
  }
 },
 "nbformat": 4,
 "nbformat_minor": 2
}
